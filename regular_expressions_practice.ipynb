{
  "nbformat": 4,
  "nbformat_minor": 0,
  "metadata": {
    "colab": {
      "provenance": [],
      "authorship_tag": "ABX9TyMRTH/PY9fGqWaTGD1t604j",
      "include_colab_link": true
    },
    "kernelspec": {
      "name": "python3",
      "display_name": "Python 3"
    },
    "language_info": {
      "name": "python"
    }
  },
  "cells": [
    {
      "cell_type": "markdown",
      "metadata": {
        "id": "view-in-github",
        "colab_type": "text"
      },
      "source": [
        "<a href=\"https://colab.research.google.com/github/blogbydev/nlp/blob/main/regular_expressions_practice.ipynb\" target=\"_parent\"><img src=\"https://colab.research.google.com/assets/colab-badge.svg\" alt=\"Open In Colab\"/></a>"
      ]
    },
    {
      "cell_type": "code",
      "execution_count": 2,
      "metadata": {
        "id": "pPnyboaOieaL"
      },
      "outputs": [],
      "source": [
        "import re"
      ]
    },
    {
      "cell_type": "code",
      "source": [
        "text = \"Suyash is the founder of brick to mountain\"\n",
        "pattern = \"founder\"\n",
        "result = re.search('owner', text)\n",
        "print(f'result: {result}\\n type(result): {type(result)}')\n",
        "\n",
        "result = re.search(pattern, text)\n",
        "print(f'result: {result}\\n type(result): {type(result)}')\n",
        "\n",
        "# type(result) = re.Match object"
      ],
      "metadata": {
        "colab": {
          "base_uri": "https://localhost:8080/"
        },
        "id": "5K0AggV8kQNS",
        "outputId": "e47305d4-65ca-4fd7-88df-7514a03b9985"
      },
      "execution_count": 10,
      "outputs": [
        {
          "output_type": "stream",
          "name": "stdout",
          "text": [
            "result: None\n",
            " type(result): <class 'NoneType'>\n",
            "result: <re.Match object; span=(14, 21), match='founder'>\n",
            " type(result): <class 're.Match'>\n"
          ]
        }
      ]
    },
    {
      "cell_type": "code",
      "source": [
        "print(f'result start: {result.start()}\\n type(result.start()): {type(result.start())}')\n",
        "print(f'result end: {result.end()}\\n type(result.end()): {type(result.end())}')"
      ],
      "metadata": {
        "colab": {
          "base_uri": "https://localhost:8080/"
        },
        "id": "GL4q2gIQlOd9",
        "outputId": "3da6a96d-244c-4a66-fb58-7e722694563e"
      },
      "execution_count": 8,
      "outputs": [
        {
          "output_type": "stream",
          "name": "stdout",
          "text": [
            "result start: 14\n",
            " type(result.start()): <class 'int'>\n",
            "result end: 21\n",
            " type(result.end()): <class 'int'>\n"
          ]
        }
      ]
    },
    {
      "cell_type": "code",
      "source": [
        "# ? => 0 or 1\n",
        "result = re.search(\"ab?\", \"a\")\n",
        "print(result)\n",
        "\n",
        "result = re.search(\"ab?\", \"ab\")\n",
        "print(result)\n",
        "\n",
        "result = re.search(\"ab?\", \"abbc\")\n",
        "print(result)"
      ],
      "metadata": {
        "colab": {
          "base_uri": "https://localhost:8080/"
        },
        "id": "8gG80oRZoKgP",
        "outputId": "e4fde52a-1154-4fe9-ba02-7346edc43051"
      },
      "execution_count": 12,
      "outputs": [
        {
          "output_type": "stream",
          "name": "stdout",
          "text": [
            "<re.Match object; span=(0, 1), match='a'>\n",
            "<re.Match object; span=(0, 2), match='ab'>\n",
            "<re.Match object; span=(0, 2), match='ab'>\n"
          ]
        }
      ]
    },
    {
      "cell_type": "code",
      "source": [
        "# * => 0 or more\n",
        "result = re.search(\"ab*\", \"a\")\n",
        "print(result)\n",
        "\n",
        "result = re.search(\"ab*\", \"ab\")\n",
        "print(result)\n",
        "\n",
        "result = re.search(\"ab*\", \"abbc\")\n",
        "print(result)\n",
        "\n",
        "result = re.search(\"ab*\", \"abdabbb\") # finds only first occurence\n",
        "print(result)"
      ],
      "metadata": {
        "colab": {
          "base_uri": "https://localhost:8080/"
        },
        "id": "0gE7ESIgpgiG",
        "outputId": "280293d4-6f6e-43f9-d3a0-beccf04e5c7f"
      },
      "execution_count": 14,
      "outputs": [
        {
          "output_type": "stream",
          "name": "stdout",
          "text": [
            "<re.Match object; span=(0, 1), match='a'>\n",
            "<re.Match object; span=(0, 2), match='ab'>\n",
            "<re.Match object; span=(0, 3), match='abb'>\n",
            "<re.Match object; span=(0, 2), match='ab'>\n"
          ]
        }
      ]
    },
    {
      "cell_type": "code",
      "source": [
        "# + => 1 or more\n",
        "result = re.search(\"ab+\", \"a\")\n",
        "print(result)\n",
        "\n",
        "result = re.search(\"ab+\", \"ab\")\n",
        "print(result)\n",
        "\n",
        "result = re.search(\"ab+\", \"abbc\")\n",
        "print(result)"
      ],
      "metadata": {
        "colab": {
          "base_uri": "https://localhost:8080/"
        },
        "id": "IAHpdVcPqrly",
        "outputId": "3da62510-7e8b-455f-f71f-ea26194b6d97"
      },
      "execution_count": 15,
      "outputs": [
        {
          "output_type": "stream",
          "name": "stdout",
          "text": [
            "None\n",
            "<re.Match object; span=(0, 2), match='ab'>\n",
            "<re.Match object; span=(0, 3), match='abb'>\n"
          ]
        }
      ]
    },
    {
      "cell_type": "code",
      "source": [
        "# {m, n}\n",
        "result = re.search(\"ab{3}\", \"abbb\")\n",
        "print(result)\n",
        "\n",
        "result = re.search(\"ab{1,3}\", \"abbb\")\n",
        "print(result)\n",
        "\n",
        "result = re.search(\"ab{3}\", \"abb\")\n",
        "print(result)\n",
        "\n",
        "result = re.search(\"ab{0,3}\", \"abb\")\n",
        "print(result)"
      ],
      "metadata": {
        "colab": {
          "base_uri": "https://localhost:8080/"
        },
        "id": "-tSdr2FMshrn",
        "outputId": "5121ec37-7d2c-459d-da27-5d65462f01b2"
      },
      "execution_count": 19,
      "outputs": [
        {
          "output_type": "stream",
          "name": "stdout",
          "text": [
            "<re.Match object; span=(0, 4), match='abbb'>\n",
            "<re.Match object; span=(0, 4), match='abbb'>\n",
            "None\n",
            "<re.Match object; span=(0, 3), match='abb'>\n"
          ]
        }
      ]
    },
    {
      "cell_type": "code",
      "source": [
        "# Anchors\n",
        "\n",
        "result = re.search(\"(ing)$\", \"playing\")\n",
        "print(result)"
      ],
      "metadata": {
        "colab": {
          "base_uri": "https://localhost:8080/"
        },
        "id": "Xqixm8Xn6k-b",
        "outputId": "26f8829e-2b94-4c83-d55e-8899619063fd"
      },
      "execution_count": 20,
      "outputs": [
        {
          "output_type": "stream",
          "name": "stdout",
          "text": [
            "<re.Match object; span=(4, 7), match='ing'>\n"
          ]
        }
      ]
    },
    {
      "cell_type": "code",
      "source": [
        "# wildcard \".\"\n",
        "\n",
        "result = re.search(\"^.{3,15}$\", \"Balasubrahmanyam\")\n",
        "print(result)"
      ],
      "metadata": {
        "colab": {
          "base_uri": "https://localhost:8080/"
        },
        "id": "_grOB4019C1A",
        "outputId": "2837edc0-1a76-478e-86bb-1dd09b1d5183"
      },
      "execution_count": 23,
      "outputs": [
        {
          "output_type": "stream",
          "name": "stdout",
          "text": [
            "None\n"
          ]
        }
      ]
    },
    {
      "cell_type": "code",
      "source": [
        "# character set\n",
        "\n",
        "result = re.search('[a-z]+ed', 'embedded')\n",
        "print(result)\n",
        "\n",
        "result = re.search('[^abc]+ed', 'sealed')\n",
        "print(result)\n",
        "\n",
        "result = re.search('[^bcdl]+ed', 'sealed')\n",
        "print(result)\n",
        "\n",
        "result = re.search('[A-Z]+ed', 'sealed')\n",
        "print(result)\n",
        "\n",
        "result = re.search('[a-zA-Z]+ed', 'sealed')\n",
        "print(result)\n",
        "\n",
        "result = re.search('[^0-9]+4!', 'a1b2c3dd4!')\n",
        "print(result)\n",
        "\n",
        "result = re.search('[^0-9]+!', 'a1b2c3dd4!')\n",
        "print(result)"
      ],
      "metadata": {
        "colab": {
          "base_uri": "https://localhost:8080/"
        },
        "id": "Xr0JZjsQqewf",
        "outputId": "b7f9fa7d-6584-49f0-aad3-3a6fb3e17296"
      },
      "execution_count": 15,
      "outputs": [
        {
          "output_type": "stream",
          "name": "stdout",
          "text": [
            "<re.Match object; span=(0, 8), match='embedded'>\n",
            "<re.Match object; span=(3, 6), match='led'>\n",
            "None\n",
            "None\n",
            "<re.Match object; span=(0, 6), match='sealed'>\n",
            "<re.Match object; span=(6, 10), match='dd4!'>\n",
            "None\n"
          ]
        }
      ]
    },
    {
      "cell_type": "code",
      "source": [
        "# meta sequence\n",
        "result = re.search('\\s+', 'UpGrad')\n",
        "print(result)\n",
        "\n",
        "result = re.search('\\S+', 'UpGrad')\n",
        "print(result)\n",
        "\n",
        "result = re.search('\\d+', 'UpGrad')\n",
        "print(result)\n",
        "\n",
        "result = re.search('\\D+', 'UpGrad')\n",
        "print(result)\n",
        "\n",
        "result = re.search('\\w+', 'UpGrad')\n",
        "print(result)\n",
        "\n",
        "result = re.search('\\W+', 'UpGrad')\n",
        "print(result)"
      ],
      "metadata": {
        "colab": {
          "base_uri": "https://localhost:8080/"
        },
        "id": "szvvrpFvxyOg",
        "outputId": "943f2e8a-7103-455a-e2d3-1a71e08e6ac0"
      },
      "execution_count": 22,
      "outputs": [
        {
          "output_type": "stream",
          "name": "stdout",
          "text": [
            "None\n",
            "<re.Match object; span=(0, 6), match='UpGrad'>\n",
            "None\n",
            "<re.Match object; span=(0, 6), match='UpGrad'>\n",
            "<re.Match object; span=(0, 6), match='UpGrad'>\n",
            "None\n"
          ]
        }
      ]
    },
    {
      "cell_type": "code",
      "source": [
        "result = re.search('[a-z]{3,10}[\\d]{4}', 'sameer728')\n",
        "print(result)"
      ],
      "metadata": {
        "colab": {
          "base_uri": "https://localhost:8080/"
        },
        "id": "qrrLiZ-067rT",
        "outputId": "820a242c-e1af-460f-97ed-13cda506621c"
      },
      "execution_count": 23,
      "outputs": [
        {
          "output_type": "stream",
          "name": "stdout",
          "text": [
            "None\n"
          ]
        }
      ]
    },
    {
      "cell_type": "code",
      "source": [
        "# greedy vs non-greedy\n",
        "\n",
        "result = re.search('ab{2,5}', 'abbbbb')\n",
        "print(result)\n",
        "\n",
        "result = re.search('ab{2,5}?', 'abbbbbb')\n",
        "print(result)\n",
        "\n",
        "result = re.search('ab+', 'abbbbbb')\n",
        "print(result)\n",
        "\n",
        "result = re.search('ab+?', 'abbbbbb')\n",
        "print(result)\n",
        "\n",
        "result = re.search('ab*', 'abbbbbb')\n",
        "print(result)\n",
        "\n",
        "result = re.search('ab*?', 'abbbbbb')\n",
        "print(result)\n",
        "\n",
        "result = re.search('<.*>', '<html><head></head><body><a></a></body></html')\n",
        "print(result)\n",
        "\n",
        "result = re.search('<.*?>', '<html><head></head><body><a></a></body></html', re.M)\n",
        "print(result)"
      ],
      "metadata": {
        "colab": {
          "base_uri": "https://localhost:8080/"
        },
        "id": "wHLwU5ba-SnM",
        "outputId": "0ca984df-5cdb-465f-9c42-1662f95f484e"
      },
      "execution_count": 30,
      "outputs": [
        {
          "output_type": "stream",
          "name": "stdout",
          "text": [
            "<re.Match object; span=(0, 6), match='abbbbb'>\n",
            "<re.Match object; span=(0, 3), match='abb'>\n",
            "<re.Match object; span=(0, 7), match='abbbbbb'>\n",
            "<re.Match object; span=(0, 2), match='ab'>\n",
            "<re.Match object; span=(0, 7), match='abbbbbb'>\n",
            "<re.Match object; span=(0, 1), match='a'>\n",
            "<re.Match object; span=(0, 39), match='<html><head></head><body><a></a></body>'>\n",
            "<re.Match object; span=(0, 6), match='<html>'>\n"
          ]
        }
      ]
    },
    {
      "cell_type": "code",
      "source": [
        "result = re.match('bb', 'abbbb')\n",
        "print(result)\n",
        "\n",
        "result = re.search('bb', 'abbb')\n",
        "print(result)\n",
        "\n",
        "result = re.search('^bb', 'abbbb bbb')\n",
        "print(result)"
      ],
      "metadata": {
        "colab": {
          "base_uri": "https://localhost:8080/"
        },
        "id": "tj8n5USDBrgD",
        "outputId": "2a7e455d-eeb2-4f33-9fa8-c08061e058bc"
      },
      "execution_count": 32,
      "outputs": [
        {
          "output_type": "stream",
          "name": "stdout",
          "text": [
            "None\n",
            "<re.Match object; span=(1, 3), match='bb'>\n",
            "None\n"
          ]
        }
      ]
    },
    {
      "cell_type": "code",
      "source": [
        "result = re.sub('\\d', 'X', '+91-8106841112')\n",
        "print(result)"
      ],
      "metadata": {
        "colab": {
          "base_uri": "https://localhost:8080/"
        },
        "id": "lVanYn2DC6YV",
        "outputId": "c1d8a66b-e166-4bd9-d859-2213f64546dc"
      },
      "execution_count": 43,
      "outputs": [
        {
          "output_type": "stream",
          "name": "stdout",
          "text": [
            "+XX-XXXXXXXXXX\n",
            "$$$$ $$$s $ $$$$\n"
          ]
        }
      ]
    },
    {
      "cell_type": "code",
      "source": [
        "string = 'good boys have good parents'\n",
        "pattern = 'good'\n",
        "\n",
        "for match in re.finditer(pattern, string):\n",
        "  print(match)\n",
        "\n",
        "result = re.findall(pattern, string)\n",
        "print(result)\n",
        "\n",
        "string = 'account numbers are 9357205544 and 8633895444'\n",
        "pattern = '\\d{10}'\n",
        "\n",
        "result = re.findall(pattern, string)\n",
        "print(result)"
      ],
      "metadata": {
        "colab": {
          "base_uri": "https://localhost:8080/"
        },
        "id": "AfewCygfGmrT",
        "outputId": "d077b434-c02f-47cf-b6ad-7eff072c871f"
      },
      "execution_count": 46,
      "outputs": [
        {
          "output_type": "stream",
          "name": "stdout",
          "text": [
            "<re.Match object; span=(0, 4), match='good'>\n",
            "<re.Match object; span=(15, 19), match='good'>\n",
            "['good', 'good']\n",
            "['9357205544', '8633895444']\n"
          ]
        }
      ]
    },
    {
      "cell_type": "code",
      "source": [
        "string = 'good boys have good parents'\n",
        "pattern = '\\w+'\n",
        "for match in re.finditer(pattern, string):\n",
        "  print(match)"
      ],
      "metadata": {
        "colab": {
          "base_uri": "https://localhost:8080/"
        },
        "id": "g5C9E9HKJTfc",
        "outputId": "b433d7e0-4dc4-4fbd-87d4-4d5db6db9d65"
      },
      "execution_count": 48,
      "outputs": [
        {
          "output_type": "stream",
          "name": "stdout",
          "text": [
            "<re.Match object; span=(0, 4), match='good'>\n",
            "<re.Match object; span=(5, 9), match='boys'>\n",
            "<re.Match object; span=(10, 14), match='have'>\n",
            "<re.Match object; span=(15, 19), match='good'>\n",
            "<re.Match object; span=(20, 27), match='parents'>\n"
          ]
        }
      ]
    },
    {
      "cell_type": "code",
      "source": [
        "string = 'Playing outside when it is raining is fun'\n",
        "pattern = '\\w+ing'\n",
        "result = re.findall(pattern, string)\n",
        "print(result)"
      ],
      "metadata": {
        "colab": {
          "base_uri": "https://localhost:8080/"
        },
        "id": "-LLgHHVQKOXf",
        "outputId": "8d14d5c5-2fbd-4e53-dad1-a058153f833d"
      },
      "execution_count": 49,
      "outputs": [
        {
          "output_type": "stream",
          "name": "stdout",
          "text": [
            "['Playing', 'raining']\n"
          ]
        }
      ]
    },
    {
      "cell_type": "code",
      "source": [
        "# grouping\n",
        "\n",
        "string = 'my bday is on 12/06/2000'\n",
        "pattern = '\\d{1,2}\\/\\d{1,2}\\/\\d{4}'\n",
        "result = re.findall(pattern, string)\n",
        "print(result)\n",
        "\n",
        "result = re.search(pattern, string)\n",
        "print(result)\n",
        "\n",
        "string = 'my bday is on 12/06/2000'\n",
        "pattern = '(\\d{1,2})\\/(\\d{1,2})\\/(\\d{4})'\n",
        "result = re.search(pattern, string)\n",
        "print(result.group())\n",
        "print(result.groups())\n",
        "print(result.group(0))\n",
        "print(result.group(1))\n",
        "print(result.group(2))\n",
        "print(result.group(3))\n"
      ],
      "metadata": {
        "colab": {
          "base_uri": "https://localhost:8080/"
        },
        "id": "O1rWsqq4Mh7O",
        "outputId": "1effadb8-bb96-45e2-989b-77223094eece"
      },
      "execution_count": 59,
      "outputs": [
        {
          "output_type": "stream",
          "name": "stdout",
          "text": [
            "['12/06/2000']\n",
            "<re.Match object; span=(14, 24), match='12/06/2000'>\n",
            "12/06/2000\n",
            "('12', '06', '2000')\n",
            "12/06/2000\n",
            "12\n",
            "06\n",
            "2000\n"
          ]
        }
      ]
    },
    {
      "cell_type": "code",
      "source": [
        "string = 'singsuyash@gmail.com'\n",
        "pattern = '\\w+@[a-z]+\\.com'\n",
        "\n",
        "result = re.search(pattern, string)\n",
        "print(result)\n",
        "\n",
        "string = 'singsuyash@gmail.com'\n",
        "pattern = '\\w+@([a-z]+\\.com)'\n",
        "result = re.search(pattern, string)\n",
        "print(result.groups())\n",
        "print(result.group(1))"
      ],
      "metadata": {
        "colab": {
          "base_uri": "https://localhost:8080/"
        },
        "id": "5EKTDZo0QO2x",
        "outputId": "899208a5-07a4-476f-a2e9-bf041210e002"
      },
      "execution_count": 64,
      "outputs": [
        {
          "output_type": "stream",
          "name": "stdout",
          "text": [
            "<re.Match object; span=(0, 20), match='singsuyash@gmail.com'>\n",
            "('gmail.com',)\n",
            "gmail.com\n"
          ]
        }
      ]
    }
  ]
}