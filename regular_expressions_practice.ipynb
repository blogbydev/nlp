{
  "nbformat": 4,
  "nbformat_minor": 0,
  "metadata": {
    "colab": {
      "provenance": [],
      "authorship_tag": "ABX9TyM5SrkBGvqxF7AI3+s2k3DE",
      "include_colab_link": true
    },
    "kernelspec": {
      "name": "python3",
      "display_name": "Python 3"
    },
    "language_info": {
      "name": "python"
    }
  },
  "cells": [
    {
      "cell_type": "markdown",
      "metadata": {
        "id": "view-in-github",
        "colab_type": "text"
      },
      "source": [
        "<a href=\"https://colab.research.google.com/github/blogbydev/nlp/blob/main/regular_expressions_practice.ipynb\" target=\"_parent\"><img src=\"https://colab.research.google.com/assets/colab-badge.svg\" alt=\"Open In Colab\"/></a>"
      ]
    },
    {
      "cell_type": "code",
      "execution_count": 1,
      "metadata": {
        "id": "pPnyboaOieaL"
      },
      "outputs": [],
      "source": [
        "import re"
      ]
    },
    {
      "cell_type": "code",
      "source": [
        "text = \"Suyash is the founder of brick to mountain\"\n",
        "pattern = \"founder\"\n",
        "result = re.search('owner', text)\n",
        "print(f'result: {result}\\n type(result): {type(result)}')\n",
        "\n",
        "result = re.search(pattern, text)\n",
        "print(f'result: {result}\\n type(result): {type(result)}')\n",
        "\n",
        "# type(result) = re.Match object"
      ],
      "metadata": {
        "colab": {
          "base_uri": "https://localhost:8080/"
        },
        "id": "5K0AggV8kQNS",
        "outputId": "e47305d4-65ca-4fd7-88df-7514a03b9985"
      },
      "execution_count": 10,
      "outputs": [
        {
          "output_type": "stream",
          "name": "stdout",
          "text": [
            "result: None\n",
            " type(result): <class 'NoneType'>\n",
            "result: <re.Match object; span=(14, 21), match='founder'>\n",
            " type(result): <class 're.Match'>\n"
          ]
        }
      ]
    },
    {
      "cell_type": "code",
      "source": [
        "print(f'result start: {result.start()}\\n type(result.start()): {type(result.start())}')\n",
        "print(f'result end: {result.end()}\\n type(result.end()): {type(result.end())}')"
      ],
      "metadata": {
        "colab": {
          "base_uri": "https://localhost:8080/"
        },
        "id": "GL4q2gIQlOd9",
        "outputId": "3da6a96d-244c-4a66-fb58-7e722694563e"
      },
      "execution_count": 8,
      "outputs": [
        {
          "output_type": "stream",
          "name": "stdout",
          "text": [
            "result start: 14\n",
            " type(result.start()): <class 'int'>\n",
            "result end: 21\n",
            " type(result.end()): <class 'int'>\n"
          ]
        }
      ]
    },
    {
      "cell_type": "code",
      "source": [
        "# ? => 0 or 1\n",
        "result = re.search(\"ab?\", \"a\")\n",
        "print(result)\n",
        "\n",
        "result = re.search(\"ab?\", \"ab\")\n",
        "print(result)\n",
        "\n",
        "result = re.search(\"ab?\", \"abbc\")\n",
        "print(result)"
      ],
      "metadata": {
        "colab": {
          "base_uri": "https://localhost:8080/"
        },
        "id": "8gG80oRZoKgP",
        "outputId": "e4fde52a-1154-4fe9-ba02-7346edc43051"
      },
      "execution_count": 12,
      "outputs": [
        {
          "output_type": "stream",
          "name": "stdout",
          "text": [
            "<re.Match object; span=(0, 1), match='a'>\n",
            "<re.Match object; span=(0, 2), match='ab'>\n",
            "<re.Match object; span=(0, 2), match='ab'>\n"
          ]
        }
      ]
    },
    {
      "cell_type": "code",
      "source": [
        "# * => 0 or more\n",
        "result = re.search(\"ab*\", \"a\")\n",
        "print(result)\n",
        "\n",
        "result = re.search(\"ab*\", \"ab\")\n",
        "print(result)\n",
        "\n",
        "result = re.search(\"ab*\", \"abbc\")\n",
        "print(result)\n",
        "\n",
        "result = re.search(\"ab*\", \"abdabbb\") # finds only first occurence\n",
        "print(result)"
      ],
      "metadata": {
        "colab": {
          "base_uri": "https://localhost:8080/"
        },
        "id": "0gE7ESIgpgiG",
        "outputId": "280293d4-6f6e-43f9-d3a0-beccf04e5c7f"
      },
      "execution_count": 14,
      "outputs": [
        {
          "output_type": "stream",
          "name": "stdout",
          "text": [
            "<re.Match object; span=(0, 1), match='a'>\n",
            "<re.Match object; span=(0, 2), match='ab'>\n",
            "<re.Match object; span=(0, 3), match='abb'>\n",
            "<re.Match object; span=(0, 2), match='ab'>\n"
          ]
        }
      ]
    },
    {
      "cell_type": "code",
      "source": [
        "# + => 1 or more\n",
        "result = re.search(\"ab+\", \"a\")\n",
        "print(result)\n",
        "\n",
        "result = re.search(\"ab+\", \"ab\")\n",
        "print(result)\n",
        "\n",
        "result = re.search(\"ab+\", \"abbc\")\n",
        "print(result)"
      ],
      "metadata": {
        "colab": {
          "base_uri": "https://localhost:8080/"
        },
        "id": "IAHpdVcPqrly",
        "outputId": "3da62510-7e8b-455f-f71f-ea26194b6d97"
      },
      "execution_count": 15,
      "outputs": [
        {
          "output_type": "stream",
          "name": "stdout",
          "text": [
            "None\n",
            "<re.Match object; span=(0, 2), match='ab'>\n",
            "<re.Match object; span=(0, 3), match='abb'>\n"
          ]
        }
      ]
    },
    {
      "cell_type": "code",
      "source": [
        "# {m, n}\n",
        "result = re.search(\"ab{3}\", \"abbb\")\n",
        "print(result)\n",
        "\n",
        "result = re.search(\"ab{1,3}\", \"abbb\")\n",
        "print(result)\n",
        "\n",
        "result = re.search(\"ab{3}\", \"abb\")\n",
        "print(result)\n",
        "\n",
        "result = re.search(\"ab{0,3}\", \"abb\")\n",
        "print(result)"
      ],
      "metadata": {
        "colab": {
          "base_uri": "https://localhost:8080/"
        },
        "id": "-tSdr2FMshrn",
        "outputId": "5121ec37-7d2c-459d-da27-5d65462f01b2"
      },
      "execution_count": 19,
      "outputs": [
        {
          "output_type": "stream",
          "name": "stdout",
          "text": [
            "<re.Match object; span=(0, 4), match='abbb'>\n",
            "<re.Match object; span=(0, 4), match='abbb'>\n",
            "None\n",
            "<re.Match object; span=(0, 3), match='abb'>\n"
          ]
        }
      ]
    }
  ]
}