{
  "cells": [
    {
      "cell_type": "markdown",
      "metadata": {
        "id": "view-in-github",
        "colab_type": "text"
      },
      "source": [
        "<a href=\"https://colab.research.google.com/github/blogbydev/nlp/blob/main/Regular_Expressions.ipynb\" target=\"_parent\"><img src=\"https://colab.research.google.com/assets/colab-badge.svg\" alt=\"Open In Colab\"/></a>"
      ]
    },
    {
      "cell_type": "markdown",
      "metadata": {
        "id": "TLuRsINWiDPl"
      },
      "source": [
        "## Regular Expressions\n",
        "Regular expression is a set of characters, called as the pattern, which helps in finding substrings in a given string. The pattern is used to detect the substrings\n",
        "\n",
        "For example, suppose you have a dataset of customer reviews about your restaurant. Say, you want to extract the emojis from the reviews because they are a good predictor os the sentiment of the review.\n",
        "\n",
        "Take another example, the artificial assistants such as Siri, Google Now use information retrieval to give you better results. When you ask them for any query or ask them to search for something interesting on the screen, they look for common patterns such as emails, phone numbers, place names, date and time and so on. This is because then the assitant can automatically make a booking or ask you to call the resturant to make a booking.\n",
        "\n",
        "Regular expressions are very powerful tool in text processing. It will help you to clean and handle your text in a much better way."
      ]
    },
    {
      "cell_type": "markdown",
      "metadata": {
        "id": "lPlNQKkgiDPn"
      },
      "source": [
        "### Let's import the regular expression library in python."
      ]
    },
    {
      "cell_type": "code",
      "execution_count": null,
      "metadata": {
        "id": "WmPxIgouiDPn"
      },
      "outputs": [],
      "source": [
        "import re"
      ]
    },
    {
      "cell_type": "markdown",
      "metadata": {
        "id": "jKnZ7yNeiDPo"
      },
      "source": [
        "Let's do a quick search using a pattern."
      ]
    },
    {
      "cell_type": "code",
      "execution_count": null,
      "metadata": {
        "id": "yj6JyrVhiDPo",
        "outputId": "c472d408-4cba-4710-f7ee-0ca5355e59b0"
      },
      "outputs": [
        {
          "data": {
            "text/plain": [
              "<re.Match object; span=(0, 4), match='Ravi'>"
            ]
          },
          "execution_count": 2,
          "metadata": {},
          "output_type": "execute_result"
        }
      ],
      "source": [
        "re.search('Ravi', 'Ravi is an exceptional student!')"
      ]
    },
    {
      "cell_type": "code",
      "execution_count": null,
      "metadata": {
        "id": "SdDGM7I1iDPp",
        "outputId": "d4acd40d-1c75-496a-f712-17e0e9d79b4a"
      },
      "outputs": [
        {
          "name": "stdout",
          "output_type": "stream",
          "text": [
            "Ravi\n"
          ]
        }
      ],
      "source": [
        "# print output of re.search()\n",
        "match = re.search('Ravi', 'Ravi is an exceptional student!')\n",
        "print(match.group())"
      ]
    },
    {
      "cell_type": "markdown",
      "metadata": {
        "id": "lItYYi3aiDPq"
      },
      "source": [
        "Let's define a function to match regular expression patterns"
      ]
    },
    {
      "cell_type": "code",
      "execution_count": null,
      "metadata": {
        "id": "90txpJBJiDPq"
      },
      "outputs": [],
      "source": [
        "def find_pattern(text, patterns):\n",
        "    if re.search(patterns, text):\n",
        "        return re.search(patterns, text)\n",
        "    else:\n",
        "        return 'Not Found!'"
      ]
    },
    {
      "cell_type": "markdown",
      "metadata": {
        "id": "RbPreNpwiDPr"
      },
      "source": [
        "### Quantifiers"
      ]
    },
    {
      "cell_type": "code",
      "execution_count": null,
      "metadata": {
        "id": "XYQyl7q1iDPr",
        "outputId": "594fc868-d6f9-4ac8-d568-def9d5fdf412"
      },
      "outputs": [
        {
          "name": "stdout",
          "output_type": "stream",
          "text": [
            "<re.Match object; span=(0, 1), match='a'>\n",
            "<re.Match object; span=(0, 2), match='ab'>\n",
            "<re.Match object; span=(0, 3), match='abb'>\n"
          ]
        }
      ],
      "source": [
        "# '*': Zero or more\n",
        "print(find_pattern(\"ac\", \"ab*\"))\n",
        "print(find_pattern(\"abc\", \"ab*\"))\n",
        "print(find_pattern(\"abbc\", \"ab*\"))"
      ]
    },
    {
      "cell_type": "code",
      "execution_count": null,
      "metadata": {
        "id": "uPs0UYb6iDPr",
        "outputId": "b649b316-5eb7-4f9e-db00-2d50431e7c3b"
      },
      "outputs": [
        {
          "name": "stdout",
          "output_type": "stream",
          "text": [
            "<re.Match object; span=(0, 1), match='a'>\n",
            "<re.Match object; span=(0, 2), match='ab'>\n",
            "<re.Match object; span=(0, 2), match='ab'>\n"
          ]
        }
      ],
      "source": [
        "# '?': Zero or one (tells whether a pattern is absent or present)\n",
        "print(find_pattern(\"ac\", \"ab?\"))\n",
        "print(find_pattern(\"abc\", \"ab?\"))\n",
        "print(find_pattern(\"abbc\", \"ab?\"))"
      ]
    },
    {
      "cell_type": "code",
      "execution_count": null,
      "metadata": {
        "id": "hBvxXRCniDPs",
        "outputId": "27178d82-e9f5-40e4-b261-bf7b3b817b20"
      },
      "outputs": [
        {
          "name": "stdout",
          "output_type": "stream",
          "text": [
            "Not Found!\n",
            "<re.Match object; span=(0, 2), match='ab'>\n",
            "<re.Match object; span=(0, 3), match='abb'>\n"
          ]
        }
      ],
      "source": [
        "# '+': One or more\n",
        "print(find_pattern(\"ac\", \"ab+\"))\n",
        "print(find_pattern(\"abc\", \"ab+\"))\n",
        "print(find_pattern(\"abbc\", \"ab+\"))"
      ]
    },
    {
      "cell_type": "code",
      "execution_count": null,
      "metadata": {
        "id": "RI5PbmI8iDPs",
        "outputId": "fca84f41-9981-44af-8c89-00ef4c8d0870"
      },
      "outputs": [
        {
          "name": "stdout",
          "output_type": "stream",
          "text": [
            "<re.Match object; span=(0, 3), match='abb'>\n"
          ]
        }
      ],
      "source": [
        "# {n}: Matches if a character is present exactly n number of times\n",
        "print(find_pattern(\"abbc\", \"ab{2}\"))\n"
      ]
    },
    {
      "cell_type": "code",
      "execution_count": null,
      "metadata": {
        "id": "B15ZyjNGiDPs",
        "outputId": "a96f7b7a-5794-413f-b73f-735877bc896f"
      },
      "outputs": [
        {
          "name": "stdout",
          "output_type": "stream",
          "text": [
            "<re.Match object; span=(1, 7), match='abbbbb'>\n",
            "Not Found!\n",
            "<re.Match object; span=(0, 1), match='a'>\n",
            "Not Found!\n"
          ]
        }
      ],
      "source": [
        "# {m,n}: Matches if a character is present from m to n number of times\n",
        "print(find_pattern(\"aabbbbbbc\", \"ab{3,5}\"))   # return true if 'b' is present 3-5 times\n",
        "print(find_pattern(\"aabbbbbbc\", \"ab{7,10}\"))  # return true if 'b' is present 7-10 times\n",
        "print(find_pattern(\"aabbbbbbc\", \"ab{,10}\"))   # return true if 'b' is present atmost 10 times\n",
        "print(find_pattern(\"aabbbbbbc\", \"ab{10,}\"))   # return true if 'b' is present from at least 10 times"
      ]
    },
    {
      "cell_type": "markdown",
      "metadata": {
        "id": "TnOvKYeiiDPt"
      },
      "source": [
        "### Anchors"
      ]
    },
    {
      "cell_type": "code",
      "execution_count": null,
      "metadata": {
        "id": "pWWzTGxyiDPt",
        "outputId": "e0ff3fb4-4131-4d6f-e24e-5fce0de24771"
      },
      "outputs": [
        {
          "name": "stdout",
          "output_type": "stream",
          "text": [
            "<re.Match object; span=(0, 1), match='J'>\n",
            "Not Found!\n",
            "<re.Match object; span=(4, 5), match='a'>\n",
            "Not Found!\n"
          ]
        }
      ],
      "source": [
        "# '^': Indicates start of a string\n",
        "# '$': Indicates end of string\n",
        "\n",
        "print(find_pattern(\"James\", \"^J\"))   # return true if string starts with 'J'\n",
        "print(find_pattern(\"Pramod\", \"^J\"))  # return true if string starts with 'J'\n",
        "print(find_pattern(\"India\", \"a$\"))   # return true if string ends with 'c'\n",
        "print(find_pattern(\"Japan\", \"a$\"))   # return true if string ends with 'c'\n"
      ]
    },
    {
      "cell_type": "markdown",
      "metadata": {
        "id": "Fxqj3K8giDPt"
      },
      "source": [
        "### Wildcard"
      ]
    },
    {
      "cell_type": "code",
      "execution_count": null,
      "metadata": {
        "id": "QGGomWciiDPt",
        "outputId": "fb65e631-7517-4649-9ae6-ef8c128a3e0f"
      },
      "outputs": [
        {
          "name": "stdout",
          "output_type": "stream",
          "text": [
            "<re.Match object; span=(0, 1), match='a'>\n",
            "<re.Match object; span=(0, 1), match='#'>\n"
          ]
        }
      ],
      "source": [
        "# '.': Matches any character\n",
        "print(find_pattern(\"a\", \".\"))\n",
        "print(find_pattern(\"#\", \".\"))\n"
      ]
    },
    {
      "cell_type": "markdown",
      "metadata": {
        "id": "yq7JcGxBiDPu"
      },
      "source": [
        "### Character sets"
      ]
    },
    {
      "cell_type": "code",
      "execution_count": null,
      "metadata": {
        "id": "esPYTLUKiDPu",
        "outputId": "dab88a1a-48ed-4b7a-8ef9-f7f2a3ae171e"
      },
      "outputs": [
        {
          "name": "stdout",
          "output_type": "stream",
          "text": [
            "<re.Match object; span=(0, 1), match='a'>\n",
            "<re.Match object; span=(0, 1), match='c'>\n"
          ]
        }
      ],
      "source": [
        "# Now we will look at '[' and ']'.\n",
        "# They're used for specifying a character class, which is a set of characters that you wish to match.\n",
        "# Characters can be listed individually as follows\n",
        "print(find_pattern(\"a\", \"[abc]\"))\n",
        "\n",
        "# Or a range of characters can be indicated by giving two characters and separating them by a '-'.\n",
        "print(find_pattern(\"c\", \"[a-c]\"))  # same as above"
      ]
    },
    {
      "cell_type": "code",
      "execution_count": null,
      "metadata": {
        "id": "w6inJAuCiDPu",
        "outputId": "ecd58870-b188-4753-e6d8-4a63194bbc4c"
      },
      "outputs": [
        {
          "name": "stdout",
          "output_type": "stream",
          "text": [
            "Not Found!\n"
          ]
        }
      ],
      "source": [
        "# '^' is used inside character set to indicate complementary set\n",
        "print(find_pattern(\"a\", \"[^abc]\"))  # return true if neither of these is present - a,b or c"
      ]
    },
    {
      "cell_type": "markdown",
      "metadata": {
        "id": "IXSkRHJniDPu"
      },
      "source": [
        "### Character sets\n",
        "| Pattern  | Matches                                                                                    |\n",
        "|----------|--------------------------------------------------------------------------------------------|\n",
        "| [abc]    | Matches either an a, b or c character                                                      |\n",
        "| [abcABC] | Matches either an a, A, b, B, c or C character                                             |\n",
        "| [a-z]    | Matches any characters between a and z, including a and z                                  |\n",
        "| [A-Z]    | Matches any characters between A and Z, including A and Z                                  |\n",
        "| [a-zA-Z] | Matches any characters between a and z, including a and z ignoring cases of the characters |\n",
        "| [0-9]    | Matches any character which is a number between 0 and 9                                    |"
      ]
    },
    {
      "cell_type": "markdown",
      "metadata": {
        "id": "kyMEf3RiiDPu"
      },
      "source": [
        "### Meta sequences\n",
        "\n",
        "| Pattern  | Equivalent to    |\n",
        "|----------|------------------|\n",
        "| \\s       | [ \\t\\n\\r\\f\\v]    |\n",
        "| \\S       | [^ \\t\\n\\r\\f\\v]   |\n",
        "| \\d       | [0-9]            |\n",
        "| \\D       | [^0-9]           |\n",
        "| \\w       | [a-zA-Z0-9_]     |\n",
        "| \\W       | [^a-zA-Z0-9_]    |"
      ]
    },
    {
      "cell_type": "markdown",
      "metadata": {
        "id": "Taz2KQsniDPv"
      },
      "source": [
        "### Greedy vs non-greedy regex"
      ]
    },
    {
      "cell_type": "code",
      "execution_count": null,
      "metadata": {
        "id": "oeRdr4f0iDPv",
        "outputId": "386e11cf-5ad8-4898-e0bf-e7e896e69e3d"
      },
      "outputs": [
        {
          "name": "stdout",
          "output_type": "stream",
          "text": [
            "<re.Match object; span=(1, 7), match='abbbbb'>\n"
          ]
        }
      ],
      "source": [
        "print(find_pattern(\"aabbbbbb\", \"ab{3,5}\")) # return if a is followed by b 3-5 times GREEDY"
      ]
    },
    {
      "cell_type": "code",
      "execution_count": null,
      "metadata": {
        "id": "1gfJg_rbiDPv",
        "outputId": "48099025-20e3-41e1-cc5e-f9df240c102f"
      },
      "outputs": [
        {
          "name": "stdout",
          "output_type": "stream",
          "text": [
            "<re.Match object; span=(1, 5), match='abbb'>\n"
          ]
        }
      ],
      "source": [
        "print(find_pattern(\"aabbbbbb\", \"ab{3,5}?\")) # return if a is followed by b 3-5 times GREEDY"
      ]
    },
    {
      "cell_type": "code",
      "execution_count": null,
      "metadata": {
        "id": "YWm61VHfiDPv",
        "outputId": "7390a8ee-bac6-4ece-87dc-55180a7ab7e2"
      },
      "outputs": [
        {
          "name": "stdout",
          "output_type": "stream",
          "text": [
            "<re.Match object; span=(0, 35), match='<HTML><TITLE>My Page</TITLE></HTML>'>\n"
          ]
        }
      ],
      "source": [
        "# Example of HTML code\n",
        "print(re.search(\"<.*>\",\"<HTML><TITLE>My Page</TITLE></HTML>\"))"
      ]
    },
    {
      "cell_type": "code",
      "execution_count": null,
      "metadata": {
        "id": "rFtHeIi2iDPv",
        "outputId": "6508f356-db16-4819-c31a-4022fff8cd33"
      },
      "outputs": [
        {
          "name": "stdout",
          "output_type": "stream",
          "text": [
            "<re.Match object; span=(0, 6), match='<HTML>'>\n"
          ]
        }
      ],
      "source": [
        "# Example of HTML code\n",
        "print(re.search(\"<.*?>\",\"<HTML><TITLE>My Page</TITLE></HTML>\"))"
      ]
    },
    {
      "cell_type": "markdown",
      "metadata": {
        "id": "Sb9fCcEGiDPw"
      },
      "source": [
        "### The five most important re functions that you would be required to use most of the times are\n",
        "\n",
        "match() Determine if the RE matches at the beginning of the string\n",
        "\n",
        "search() Scan through a string, looking for any location where this RE matches\n",
        "\n",
        "finall() Find all the substrings where the RE matches, and return them as a list\n",
        "\n",
        "finditer() Find all substrings where RE matches and return them as asn iterator\n",
        "\n",
        "sub() Find all substrings where the RE matches and substitute them with the given string"
      ]
    },
    {
      "cell_type": "code",
      "execution_count": null,
      "metadata": {
        "id": "Bgo-jioniDPw"
      },
      "outputs": [],
      "source": [
        "# - this function uses the re.match() and let's see how it differs from re.search()\n",
        "def match_pattern(text, patterns):\n",
        "    if re.match(patterns, text):\n",
        "        return re.match(patterns, text)\n",
        "    else:\n",
        "        return ('Not found!')"
      ]
    },
    {
      "cell_type": "code",
      "execution_count": null,
      "metadata": {
        "id": "VsXa8ZRsiDPw",
        "outputId": "746c3e6f-cf99-4337-960a-601b4a23729a"
      },
      "outputs": [
        {
          "name": "stdout",
          "output_type": "stream",
          "text": [
            "<re.Match object; span=(1, 3), match='bb'>\n"
          ]
        }
      ],
      "source": [
        "print(find_pattern(\"abbc\", \"b+\"))"
      ]
    },
    {
      "cell_type": "code",
      "execution_count": null,
      "metadata": {
        "id": "4BNBnmB8iDPw",
        "outputId": "bca75930-211f-4b92-db03-e9e7136c2460"
      },
      "outputs": [
        {
          "name": "stdout",
          "output_type": "stream",
          "text": [
            "Not found!\n"
          ]
        }
      ],
      "source": [
        "print(match_pattern(\"abbc\", \"b+\"))"
      ]
    },
    {
      "cell_type": "code",
      "execution_count": null,
      "metadata": {
        "id": "0PxHkvJLiDPw",
        "outputId": "c6c56963-d743-4fee-a139-145ddcf48ad8"
      },
      "outputs": [
        {
          "name": "stdout",
          "output_type": "stream",
          "text": [
            "21 Ramakrishna Rd\n"
          ]
        }
      ],
      "source": [
        "## Example usage of the sub() function. Replace Road with rd.\n",
        "\n",
        "street = '21 Ramakrishna Road'\n",
        "print(re.sub('Road', 'Rd', street))"
      ]
    },
    {
      "cell_type": "code",
      "execution_count": null,
      "metadata": {
        "id": "SOwT17QuiDPx",
        "outputId": "f13e0024-738f-4779-8b80-af2acf9c76a8"
      },
      "outputs": [
        {
          "name": "stdout",
          "output_type": "stream",
          "text": [
            "21 Rd Rd\n"
          ]
        }
      ],
      "source": [
        "print(re.sub('R\\w+', 'Rd', street))"
      ]
    },
    {
      "cell_type": "code",
      "execution_count": null,
      "metadata": {
        "id": "lmoQpiWUiDPx",
        "outputId": "64d91ea9-cf46-4207-de89-51af8e767e0d"
      },
      "outputs": [
        {
          "name": "stdout",
          "output_type": "stream",
          "text": [
            "START - 12END - 20\n",
            "START - 42END - 50\n"
          ]
        }
      ],
      "source": [
        "## Example usage of finditer(). Find all occurrences of word Festival in given sentence\n",
        "\n",
        "text = 'Diwali is a festival of lights, Holi is a festival of colors!'\n",
        "pattern = 'festival'\n",
        "for match in re.finditer(pattern, text):\n",
        "    print('START -', match.start(), end=\"\")\n",
        "    print('END -', match.end())"
      ]
    },
    {
      "cell_type": "code",
      "execution_count": null,
      "metadata": {
        "id": "i34SjS0piDPx",
        "outputId": "da6dc737-73f6-4630-9290-a7fa2f78e598"
      },
      "outputs": [
        {
          "name": "stdout",
          "output_type": "stream",
          "text": [
            "[('2017', '10', '28')]\n"
          ]
        }
      ],
      "source": [
        "# Example usage of findall(). In the given URL find all dates\n",
        "url = \"http://www.telegraph.co.uk/formula-1/2017/10/28/mexican-grand-prix-2017-time-does-start-tv-channel-odds-lewisl/2017/05/12\"\n",
        "date_regex = '/(\\d{4})/(\\d{1,2})/(\\d{1,2})/'\n",
        "print(re.findall(date_regex, url))"
      ]
    },
    {
      "cell_type": "code",
      "execution_count": null,
      "metadata": {
        "id": "raLbBU0OiDPx",
        "outputId": "aef62f70-2b31-471d-e41f-5358c6449c0e"
      },
      "outputs": [
        {
          "name": "stdout",
          "output_type": "stream",
          "text": [
            "/2017/10/28/\n"
          ]
        }
      ],
      "source": [
        "## Exploring Groups\n",
        "m1 = re.search(date_regex, url)\n",
        "print(m1.group())  ## print the matched group"
      ]
    },
    {
      "cell_type": "code",
      "execution_count": null,
      "metadata": {
        "id": "Y2nzPYLYiDPx",
        "outputId": "377270a8-ac6b-4b9e-80dc-adf7d17c6d8c"
      },
      "outputs": [
        {
          "name": "stdout",
          "output_type": "stream",
          "text": [
            "2017\n"
          ]
        }
      ],
      "source": [
        "print(m1.group(1)) # - Print first group"
      ]
    },
    {
      "cell_type": "code",
      "execution_count": null,
      "metadata": {
        "id": "NbagGGMbiDPx",
        "outputId": "5cba42dc-2af7-4448-9d90-e91659f6f298"
      },
      "outputs": [
        {
          "name": "stdout",
          "output_type": "stream",
          "text": [
            "10\n"
          ]
        }
      ],
      "source": [
        "print(m1.group(2)) # - Print second group"
      ]
    },
    {
      "cell_type": "code",
      "execution_count": null,
      "metadata": {
        "id": "UDhVi3OriDP4",
        "outputId": "cc81e559-a81f-43a1-a156-328d210d8629"
      },
      "outputs": [
        {
          "name": "stdout",
          "output_type": "stream",
          "text": [
            "28\n"
          ]
        }
      ],
      "source": [
        "print(m1.group(3)) # - Print third group"
      ]
    },
    {
      "cell_type": "code",
      "execution_count": null,
      "metadata": {
        "id": "Cw4xtxZ9iDP4",
        "outputId": "7fd88a7f-f4a1-4932-f851-add92ca6146b"
      },
      "outputs": [
        {
          "name": "stdout",
          "output_type": "stream",
          "text": [
            "/2017/10/28/\n"
          ]
        }
      ],
      "source": [
        "print(m1.group(0)) # - Print zero or the default group"
      ]
    }
  ],
  "metadata": {
    "kernelspec": {
      "display_name": "Python 3",
      "language": "python",
      "name": "python3"
    },
    "language_info": {
      "codemirror_mode": {
        "name": "ipython",
        "version": 3
      },
      "file_extension": ".py",
      "mimetype": "text/x-python",
      "name": "python",
      "nbconvert_exporter": "python",
      "pygments_lexer": "ipython3",
      "version": "3.7.0"
    },
    "colab": {
      "provenance": [],
      "include_colab_link": true
    }
  },
  "nbformat": 4,
  "nbformat_minor": 0
}