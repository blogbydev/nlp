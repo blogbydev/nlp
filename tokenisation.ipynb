{
  "cells": [
    {
      "cell_type": "markdown",
      "metadata": {
        "id": "view-in-github",
        "colab_type": "text"
      },
      "source": [
        "<a href=\"https://colab.research.google.com/github/blogbydev/nlp/blob/main/tokenisation.ipynb\" target=\"_parent\"><img src=\"https://colab.research.google.com/assets/colab-badge.svg\" alt=\"Open In Colab\"/></a>"
      ]
    },
    {
      "cell_type": "markdown",
      "metadata": {
        "id": "9_sgVXBx08uQ"
      },
      "source": [
        "# Tokenisation\n",
        "\n",
        "The notebook contains three types of tokenisation techniques:\n",
        "1. Word tokenisation\n",
        "2. Sentence tokenisation\n",
        "3. Tweet tokenisation\n",
        "4. Custom tokenisation using regular expressions"
      ]
    },
    {
      "cell_type": "markdown",
      "metadata": {
        "id": "pdHbe9Ed08uR"
      },
      "source": [
        "### 1. Word tokenisation"
      ]
    },
    {
      "cell_type": "code",
      "execution_count": 4,
      "metadata": {
        "colab": {
          "base_uri": "https://localhost:8080/"
        },
        "id": "mW_xhlKw08uR",
        "outputId": "4abf0379-0d24-4f83-b5b8-65c768066c6b"
      },
      "outputs": [
        {
          "output_type": "stream",
          "name": "stdout",
          "text": [
            "At nine o'clock I visited him myself. It looks like religious mania, and he'll soon think that he himself is God.\n"
          ]
        }
      ],
      "source": [
        "document = \"At nine o'clock I visited him myself. It looks like religious mania, and he'll soon think that he himself is God.\"\n",
        "print(document)"
      ]
    },
    {
      "cell_type": "markdown",
      "metadata": {
        "id": "iDsF0Wzm08uS"
      },
      "source": [
        "Tokenising on spaces using python"
      ]
    },
    {
      "cell_type": "code",
      "execution_count": 5,
      "metadata": {
        "colab": {
          "base_uri": "https://localhost:8080/"
        },
        "id": "Jai8KW0Q08uT",
        "outputId": "05693cd2-6e36-45f3-e29b-a053fa6c24c2"
      },
      "outputs": [
        {
          "output_type": "stream",
          "name": "stdout",
          "text": [
            "['At', 'nine', \"o'clock\", 'I', 'visited', 'him', 'myself.', 'It', 'looks', 'like', 'religious', 'mania,', 'and', \"he'll\", 'soon', 'think', 'that', 'he', 'himself', 'is', 'God.']\n"
          ]
        }
      ],
      "source": [
        "print(document.split())"
      ]
    },
    {
      "cell_type": "code",
      "source": [
        "import nltk\n",
        "nltk.download('punkt_tab')"
      ],
      "metadata": {
        "colab": {
          "base_uri": "https://localhost:8080/"
        },
        "id": "nU9pnGPP2TT7",
        "outputId": "a843ff68-8f02-4ea1-ecdd-1fd07de0fda8"
      },
      "execution_count": 7,
      "outputs": [
        {
          "output_type": "stream",
          "name": "stderr",
          "text": [
            "[nltk_data] Downloading package punkt_tab to /root/nltk_data...\n",
            "[nltk_data]   Unzipping tokenizers/punkt_tab.zip.\n"
          ]
        },
        {
          "output_type": "execute_result",
          "data": {
            "text/plain": [
              "True"
            ]
          },
          "metadata": {},
          "execution_count": 7
        }
      ]
    },
    {
      "cell_type": "markdown",
      "metadata": {
        "id": "CG1X8qyA08uT"
      },
      "source": [
        "Tokenising using nltk word tokeniser"
      ]
    },
    {
      "cell_type": "code",
      "execution_count": 8,
      "metadata": {
        "collapsed": true,
        "id": "X9IwafcQ08uU"
      },
      "outputs": [],
      "source": [
        "from nltk.tokenize import word_tokenize\n",
        "words = word_tokenize(document)"
      ]
    },
    {
      "cell_type": "code",
      "execution_count": null,
      "metadata": {
        "id": "Kp5SMtu608uU",
        "outputId": "9a9d1a34-c00b-428d-dca8-121c5859c7ae"
      },
      "outputs": [
        {
          "name": "stdout",
          "output_type": "stream",
          "text": [
            "['At', 'nine', \"o'clock\", 'I', 'visited', 'him', 'myself', '.', 'It', 'looks', 'like', 'religious', 'mania', ',', 'and', 'he', \"'ll\", 'soon', 'think', 'that', 'he', 'himself', 'is', 'God', '.']\n"
          ]
        }
      ],
      "source": [
        "print(words)"
      ]
    },
    {
      "cell_type": "code",
      "source": [],
      "metadata": {
        "id": "vAkIqUnA2JdN"
      },
      "execution_count": null,
      "outputs": []
    },
    {
      "cell_type": "markdown",
      "metadata": {
        "id": "LM_WoGpU08uV"
      },
      "source": [
        "NLTK's word tokeniser not only breaks on whitespaces but also breaks contraction words such as he'll into \"he\" and \"'ll\". On the other hand it doesn't break \"o'clock\" and treats it as a separate token."
      ]
    },
    {
      "cell_type": "markdown",
      "metadata": {
        "id": "ptAeYPO_08uV"
      },
      "source": [
        "### 2. Sentence tokeniser"
      ]
    },
    {
      "cell_type": "markdown",
      "metadata": {
        "id": "7NJI6jpr08uV"
      },
      "source": [
        "Tokenising based on sentence requires you to split on the period ('.'). Let's use nltk sentence tokeniser."
      ]
    },
    {
      "cell_type": "code",
      "execution_count": 9,
      "metadata": {
        "collapsed": true,
        "id": "RmEvXK-L08uV"
      },
      "outputs": [],
      "source": [
        "from nltk.tokenize import sent_tokenize\n",
        "sentences = sent_tokenize(document)"
      ]
    },
    {
      "cell_type": "code",
      "execution_count": 10,
      "metadata": {
        "colab": {
          "base_uri": "https://localhost:8080/"
        },
        "id": "TqLdqdlk08uW",
        "outputId": "2665d42f-242c-49d8-ccb3-5534a1200125"
      },
      "outputs": [
        {
          "output_type": "stream",
          "name": "stdout",
          "text": [
            "[\"At nine o'clock I visited him myself.\", \"It looks like religious mania, and he'll soon think that he himself is God.\"]\n"
          ]
        }
      ],
      "source": [
        "print(sentences)"
      ]
    },
    {
      "cell_type": "markdown",
      "metadata": {
        "id": "WCsa3Fhz08uW"
      },
      "source": [
        "### 3. Tweet tokeniser"
      ]
    },
    {
      "cell_type": "markdown",
      "metadata": {
        "id": "7o8O5ZAY08uW"
      },
      "source": [
        "A problem with word tokeniser is that it fails to tokeniser emojis and other complex special characters such as word with hashtags. Emojis are common these days and people use them all the time."
      ]
    },
    {
      "cell_type": "code",
      "execution_count": 11,
      "metadata": {
        "collapsed": true,
        "id": "btBT1S7508uW"
      },
      "outputs": [],
      "source": [
        "message = \"i recently watched this show called mindhunters:). i totally loved it 😍. it was gr8 <3. #bingewatching #nothingtodo 😎\""
      ]
    },
    {
      "cell_type": "code",
      "execution_count": 12,
      "metadata": {
        "scrolled": true,
        "colab": {
          "base_uri": "https://localhost:8080/"
        },
        "id": "Uf6D-WrG08uX",
        "outputId": "4f3e7ecd-4a1f-4dbd-f226-f31ee1ae3db8"
      },
      "outputs": [
        {
          "output_type": "stream",
          "name": "stdout",
          "text": [
            "['i', 'recently', 'watched', 'this', 'show', 'called', 'mindhunters', ':', ')', '.', 'i', 'totally', 'loved', 'it', '😍', '.', 'it', 'was', 'gr8', '<', '3', '.', '#', 'bingewatching', '#', 'nothingtodo', '😎']\n"
          ]
        }
      ],
      "source": [
        "print(word_tokenize(message))"
      ]
    },
    {
      "cell_type": "markdown",
      "metadata": {
        "id": "wrFqswA908uX"
      },
      "source": [
        "The word tokeniser breaks the emoji '<3' into '<' and '3' which is something that we don't want. Emojis have their own significance in areas like sentiment analysis where a happy face and sad face can salone prove to be a really good predictor of the sentiment. Similarly, the hashtags are broken into two tokens. A hashtag is used for searching specific topics or photos in social media apps such as Instagram and facebook. So there, you want to use the hashtag as is.\n",
        "\n",
        "Let's use the tweet tokeniser of nltk to tokenise this message."
      ]
    },
    {
      "cell_type": "code",
      "execution_count": 13,
      "metadata": {
        "collapsed": true,
        "id": "56nJ2SiT08uX"
      },
      "outputs": [],
      "source": [
        "from nltk.tokenize import TweetTokenizer\n",
        "tknzr = TweetTokenizer()"
      ]
    },
    {
      "cell_type": "code",
      "execution_count": 14,
      "metadata": {
        "colab": {
          "base_uri": "https://localhost:8080/"
        },
        "id": "bZxSmXpt08uX",
        "outputId": "ff79ed4c-68bd-4fb2-da33-ddc24bb0042d"
      },
      "outputs": [
        {
          "output_type": "execute_result",
          "data": {
            "text/plain": [
              "['i',\n",
              " 'recently',\n",
              " 'watched',\n",
              " 'this',\n",
              " 'show',\n",
              " 'called',\n",
              " 'mindhunters',\n",
              " ':)',\n",
              " '.',\n",
              " 'i',\n",
              " 'totally',\n",
              " 'loved',\n",
              " 'it',\n",
              " '😍',\n",
              " '.',\n",
              " 'it',\n",
              " 'was',\n",
              " 'gr8',\n",
              " '<3',\n",
              " '.',\n",
              " '#bingewatching',\n",
              " '#nothingtodo',\n",
              " '😎']"
            ]
          },
          "metadata": {},
          "execution_count": 14
        }
      ],
      "source": [
        "tknzr.tokenize(message)"
      ]
    },
    {
      "cell_type": "markdown",
      "metadata": {
        "id": "V2VCocld08uX"
      },
      "source": [
        "As you can see, it handles all the emojis and the hashtags pretty well.\n",
        "\n",
        "Now, there is a tokeniser that takes a regular expression and tokenises and returns result based on the pattern of regular expression.\n",
        "\n",
        "Let's look at how you can use regular expression tokeniser."
      ]
    },
    {
      "cell_type": "code",
      "execution_count": 15,
      "metadata": {
        "collapsed": true,
        "id": "kpYTvWMA08uY"
      },
      "outputs": [],
      "source": [
        "from nltk.tokenize import regexp_tokenize\n",
        "message = \"i recently watched this show called mindhunters:). i totally loved it 😍. it was gr8 <3. #bingewatching #nothingtodo 😎\"\n",
        "pattern = \"#[\\w]+\""
      ]
    },
    {
      "cell_type": "code",
      "execution_count": 16,
      "metadata": {
        "colab": {
          "base_uri": "https://localhost:8080/"
        },
        "id": "x4V6-K3E08uY",
        "outputId": "86681cc5-d48e-4ab9-dcfa-19be9f98a7c2"
      },
      "outputs": [
        {
          "output_type": "execute_result",
          "data": {
            "text/plain": [
              "['#bingewatching', '#nothingtodo']"
            ]
          },
          "metadata": {},
          "execution_count": 16
        }
      ],
      "source": [
        "regexp_tokenize(message, pattern)"
      ]
    },
    {
      "cell_type": "code",
      "source": [
        "import nltk\n",
        "nltk.download('stopwords')"
      ],
      "metadata": {
        "colab": {
          "base_uri": "https://localhost:8080/"
        },
        "id": "CRcTMwcm495e",
        "outputId": "ad7148b6-7521-42c4-bce0-3a6d497df163"
      },
      "execution_count": 18,
      "outputs": [
        {
          "output_type": "stream",
          "name": "stderr",
          "text": [
            "[nltk_data] Downloading package stopwords to /root/nltk_data...\n",
            "[nltk_data]   Unzipping corpora/stopwords.zip.\n"
          ]
        },
        {
          "output_type": "execute_result",
          "data": {
            "text/plain": [
              "True"
            ]
          },
          "metadata": {},
          "execution_count": 18
        }
      ]
    },
    {
      "cell_type": "code",
      "source": [
        "sentence = 'Education is the most powerful weapon that you can use to change the world'\n",
        "\n",
        "from nltk.tokenize import word_tokenize\n",
        "from nltk.corpus import stopwords\n",
        "\n",
        "sentence = sentence.lower()\n",
        "words = word_tokenize(sentence)\n",
        "\n",
        "stopwords = stopwords.words('english')\n",
        "\n",
        "no_stops = [word for word in words if word not in stopwords]\n",
        "\n",
        "print(no_stops)"
      ],
      "metadata": {
        "colab": {
          "base_uri": "https://localhost:8080/"
        },
        "id": "lwSa5GnO4cCV",
        "outputId": "a519be68-f005-4d61-fdfe-7c33e02d1d20"
      },
      "execution_count": 19,
      "outputs": [
        {
          "output_type": "stream",
          "name": "stdout",
          "text": [
            "['education', 'powerful', 'weapon', 'use', 'change', 'world']\n"
          ]
        }
      ]
    }
  ],
  "metadata": {
    "kernelspec": {
      "display_name": "Python 3",
      "language": "python",
      "name": "python3"
    },
    "language_info": {
      "codemirror_mode": {
        "name": "ipython",
        "version": 3
      },
      "file_extension": ".py",
      "mimetype": "text/x-python",
      "name": "python",
      "nbconvert_exporter": "python",
      "pygments_lexer": "ipython3",
      "version": "3.6.5"
    },
    "colab": {
      "provenance": [],
      "include_colab_link": true
    }
  },
  "nbformat": 4,
  "nbformat_minor": 0
}