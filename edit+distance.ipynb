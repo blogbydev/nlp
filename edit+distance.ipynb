{
  "cells": [
    {
      "cell_type": "markdown",
      "metadata": {
        "id": "view-in-github",
        "colab_type": "text"
      },
      "source": [
        "<a href=\"https://colab.research.google.com/github/blogbydev/nlp/blob/main/edit%2Bdistance.ipynb\" target=\"_parent\"><img src=\"https://colab.research.google.com/assets/colab-badge.svg\" alt=\"Open In Colab\"/></a>"
      ]
    },
    {
      "cell_type": "markdown",
      "metadata": {
        "id": "QSREDVFr1P-A"
      },
      "source": [
        "## Levenshtein Edit Distance\n",
        "The levenshtein distance calculates the number of steps (insertions, deletions or substitutions) required to go from source string to target string."
      ]
    },
    {
      "cell_type": "code",
      "execution_count": 1,
      "metadata": {
        "collapsed": true,
        "id": "BLu0uuOP1P-E"
      },
      "outputs": [],
      "source": [
        "def lev_distance(source='', target=''):\n",
        "    \"\"\"Make a Levenshtein Distances Matrix\"\"\"\n",
        "\n",
        "    # get length of both strings\n",
        "    n1, n2 = len(source), len(target)\n",
        "\n",
        "    # create matrix using length of both strings - source string sits on columns, target string sits on rows\n",
        "    matrix = [ [ 0 for i1 in range(n1 + 1) ] for i2 in range(n2 + 1) ]\n",
        "\n",
        "    # fill the first row - (0 to n1-1)\n",
        "    for i1 in range(1, n1 + 1):\n",
        "        matrix[0][i1] = i1\n",
        "\n",
        "    # fill the first column - (0 to n2-1)\n",
        "    for i2 in range(1, n2 + 1):\n",
        "        matrix[i2][0] = i2\n",
        "\n",
        "    # fill the matrix\n",
        "    for i2 in range(1, n2 + 1):\n",
        "        for i1 in range(1, n1 + 1):\n",
        "\n",
        "            # check whether letters being compared are same\n",
        "            if (source[i1-1] == target[i2-1]):\n",
        "                value = matrix[i2-1][i1-1]               # top-left cell value\n",
        "            else:\n",
        "                value = min(matrix[i2-1][i1]   + 1,      # left cell value     + 1\n",
        "                            matrix[i2][i1-1]   + 1,      # top cell  value     + 1\n",
        "                            matrix[i2-1][i1-1] + 1)      # top-left cell value + 1\n",
        "\n",
        "            matrix[i2][i1] = value\n",
        "\n",
        "    # return bottom-right cell value\n",
        "    return matrix[-1][-1]"
      ]
    },
    {
      "cell_type": "code",
      "execution_count": 2,
      "metadata": {
        "colab": {
          "base_uri": "https://localhost:8080/"
        },
        "id": "t7VmxyOV1P-G",
        "outputId": "fc1610e5-0f3b-42da-fa45-caa347256fca"
      },
      "outputs": [
        {
          "output_type": "execute_result",
          "data": {
            "text/plain": [
              "2"
            ]
          },
          "metadata": {},
          "execution_count": 2
        }
      ],
      "source": [
        "lev_distance('cat', 'cta')"
      ]
    },
    {
      "cell_type": "markdown",
      "metadata": {
        "id": "XPj7pAv21P-H"
      },
      "source": [
        "## Levenshtein distance in nltk library"
      ]
    },
    {
      "cell_type": "code",
      "execution_count": 3,
      "metadata": {
        "collapsed": true,
        "id": "9gP7YiPH1P-I"
      },
      "outputs": [],
      "source": [
        "# import library\n",
        "from nltk.metrics.distance import edit_distance"
      ]
    },
    {
      "cell_type": "code",
      "execution_count": 4,
      "metadata": {
        "colab": {
          "base_uri": "https://localhost:8080/"
        },
        "id": "R63eDb5a1P-I",
        "outputId": "e129ff5f-b69f-43db-8b9a-6ab70cf77e65"
      },
      "outputs": [
        {
          "output_type": "execute_result",
          "data": {
            "text/plain": [
              "2"
            ]
          },
          "metadata": {},
          "execution_count": 4
        }
      ],
      "source": [
        "edit_distance(\"apple\", \"appel\")"
      ]
    },
    {
      "cell_type": "markdown",
      "metadata": {
        "id": "sgAE0zHR1P-I"
      },
      "source": [
        "## Damerau-Levenshtein Distance\n",
        "The Damerau-Levenshtein distance allows transpositions (swap of two letters which are adjacent to each other) as well."
      ]
    },
    {
      "cell_type": "code",
      "execution_count": 6,
      "metadata": {
        "colab": {
          "base_uri": "https://localhost:8080/"
        },
        "id": "xpTRcOpF1P-J",
        "outputId": "952f8cfb-41b8-4fde-8951-3e172da8bc40"
      },
      "outputs": [
        {
          "output_type": "execute_result",
          "data": {
            "text/plain": [
              "10"
            ]
          },
          "metadata": {},
          "execution_count": 6
        }
      ],
      "source": [
        "edit_distance(\"Damerau\", \"Levenshtein\", transpositions=False, )"
      ]
    },
    {
      "cell_type": "code",
      "execution_count": 5,
      "metadata": {
        "collapsed": true,
        "id": "HYIuZsoe1P-J"
      },
      "outputs": [],
      "source": []
    }
  ],
  "metadata": {
    "kernelspec": {
      "display_name": "Python 3",
      "language": "python",
      "name": "python3"
    },
    "language_info": {
      "codemirror_mode": {
        "name": "ipython",
        "version": 3
      },
      "file_extension": ".py",
      "mimetype": "text/x-python",
      "name": "python",
      "nbconvert_exporter": "python",
      "pygments_lexer": "ipython3",
      "version": "3.6.5"
    },
    "colab": {
      "provenance": [],
      "include_colab_link": true
    }
  },
  "nbformat": 4,
  "nbformat_minor": 0
}